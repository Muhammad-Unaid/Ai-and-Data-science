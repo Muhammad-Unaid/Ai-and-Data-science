{
 "cells": [
  {
   "cell_type": "markdown",
   "id": "b5bdf712-76cc-43fe-97c1-a32767a820af",
   "metadata": {},
   "source": [
    "# Problem 6\n",
    "(Q6)find out the area of Triangle."
   ]
  },
  {
   "cell_type": "code",
   "execution_count": null,
   "id": "fe5b3116-6323-4463-b797-786186fea884",
   "metadata": {},
   "outputs": [],
   "source": [
    "base=float(input(\"Enter the base of triangle :\"))\n",
    "altitude=float(input(\"Enter the height of triangle \"))\n",
    "Area=0.5*base*altitude\n",
    "print(f\"The area of triangle = {Area}\")"
   ]
  },
  {
   "cell_type": "code",
   "execution_count": null,
   "id": "73028776-4d6d-42d2-bfa6-3a02e1c28627",
   "metadata": {},
   "outputs": [],
   "source": [
    "new = \"hello\""
   ]
  },
  {
   "cell_type": "code",
   "execution_count": null,
   "id": "ef186af6",
   "metadata": {},
   "outputs": [],
   "source": []
  }
 ],
 "metadata": {
  "kernelspec": {
   "display_name": "base",
   "language": "python",
   "name": "python3"
  },
  "language_info": {
   "codemirror_mode": {
    "name": "ipython",
    "version": 3
   },
   "file_extension": ".py",
   "mimetype": "text/x-python",
   "name": "python",
   "nbconvert_exporter": "python",
   "pygments_lexer": "ipython3",
   "version": "3.12.7"
  }
 },
 "nbformat": 4,
 "nbformat_minor": 5
}
