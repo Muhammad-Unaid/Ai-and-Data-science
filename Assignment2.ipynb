{
 "cells": [
  {
   "cell_type": "markdown",
   "id": "5b9bc627-2ca3-4bb2-87ab-11ceaf3723e7",
   "metadata": {},
   "source": [
    "\n",
    "##\t1) Write a Python program that asks the user to enter their age. Based on the input, classify the user as a \"Minor\" (below 18), \"Adult\" (18-60), or Senior Citizen\" (above 60).\n"
   ]
  },
  {
   "cell_type": "code",
   "execution_count": 122,
   "id": "078c41dd-29d1-49c4-beec-d226d9280d6d",
   "metadata": {},
   "outputs": [
    {
     "name": "stdin",
     "output_type": "stream",
     "text": [
      "What is your age ? 45\n"
     ]
    },
    {
     "name": "stdout",
     "output_type": "stream",
     "text": [
      "You are a Adult.\n"
     ]
    }
   ],
   "source": [
    "citizen_age = int(input(\"What is your age ?\"))\n",
    "result = None\n",
    "\n",
    "if citizen_age >=60 :\n",
    "    result = \"You are a senior citizen.\"\n",
    "elif citizen_age >=18 :\n",
    "    result = \"You are a Adult.\"\n",
    "else :\n",
    "    result = \"You are Minor.\"\n",
    "\n",
    "print (result)"
   ]
  },
  {
   "cell_type": "markdown",
   "id": "ea008240-9743-475b-91ef-2b43269d9447",
   "metadata": {},
   "source": [
    "\n",
    "## 2) Write a Python program that takes an integer input from the user and checks whether it is even or odd."
   ]
  },
  {
   "cell_type": "code",
   "execution_count": 124,
   "id": "4ab3f2e7-9697-4d26-a02f-6da0dea61e48",
   "metadata": {},
   "outputs": [
    {
     "name": "stdin",
     "output_type": "stream",
     "text": [
      "Please input a number. 3\n"
     ]
    },
    {
     "name": "stdout",
     "output_type": "stream",
     "text": [
      "This number is an odd\n"
     ]
    }
   ],
   "source": [
    "get_input = int(input(\"Please input a number.\"))\n",
    "\n",
    "if get_input%2 == 0 :\n",
    "    print(\"This number is an even\")\n",
    "\n",
    "else :\n",
    "    print (\"This number is an odd\")\n"
   ]
  },
  {
   "cell_type": "markdown",
   "id": "d34a1d80-d006-4d4b-97d4-c0e5179c8b3c",
   "metadata": {},
   "source": [
    "## 3) Ask the user to enter their exam score (0-100). Based on the score, print the corresponding grade:\n",
    "\n",
    "## A (90-100) B (80-89) C (70-79) D (60-69) F (Below 60)"
   ]
  },
  {
   "cell_type": "code",
   "execution_count": 126,
   "id": "145e61df-d642-477b-b52a-f1f3e9ef8f42",
   "metadata": {},
   "outputs": [
    {
     "name": "stdin",
     "output_type": "stream",
     "text": [
      "Pleas input your english marks. 45\n",
      "Pleas input your math marks. 45\n",
      "Pleas input your chemistry marks. 45\n",
      "Pleas input your biology marks. 45\n",
      "Pleas input your physics marks. 45\n"
     ]
    },
    {
     "name": "stdout",
     "output_type": "stream",
     "text": [
      "Your Grade is F\n"
     ]
    }
   ],
   "source": [
    "english = int(input(\"Pleas input your english marks.\"))\n",
    "math = int(input(\"Pleas input your math marks.\"))\n",
    "chemistry = int(input(\"Pleas input your chemistry marks.\"))\n",
    "biology = int(input(\"Pleas input your biology marks.\"))\n",
    "physics = int(input(\"Pleas input your physics marks.\"))\n",
    "\n",
    "result = None\n",
    "\n",
    "total_marks = 500\n",
    "\n",
    "marks_obtained = english+math+chemistry+biology+physics\n",
    "\n",
    "perc = (marks_obtained / total_marks)*100\n",
    "\n",
    "if perc>=90 :\n",
    "    result = \"Your grade is A\"\n",
    "\n",
    "elif perc>=80 :\n",
    "    result = \"Your grade is B\"\n",
    "\n",
    "elif perc>=70 :\n",
    "    result = \"Your grade is C\"\n",
    "\n",
    "elif perc>=60 :\n",
    "    result = \"Your grade is D\"\n",
    "\n",
    "else :\n",
    "    result = \"Your Grade is F\"\n",
    "\n",
    "print (result)\n",
    "\n"
   ]
  },
  {
   "cell_type": "markdown",
   "id": "fc593a9a-a49f-4dc0-816d-cc9b491a9fa3",
   "metadata": {},
   "source": [
    "## 4) Write a Python program that takes a number as input and determines whether it is positive, negative, or zero"
   ]
  },
  {
   "cell_type": "code",
   "execution_count": 128,
   "id": "3db5d89d-13e2-4ff6-9763-de8880be00eb",
   "metadata": {},
   "outputs": [
    {
     "name": "stdin",
     "output_type": "stream",
     "text": [
      "Enter a number:  45\n"
     ]
    },
    {
     "name": "stdout",
     "output_type": "stream",
     "text": [
      "The number is positive.\n"
     ]
    }
   ],
   "source": [
    "# Function to determine if a number is positive, negative or zero\n",
    "def check_number(num):\n",
    "    if num > 0:\n",
    "        return \"The number is positive.\"\n",
    "    elif num < 0:\n",
    "        return \"The number is negative.\"\n",
    "    else:\n",
    "        return \"The number is zero.\"\n",
    "\n",
    "# Get user input\n",
    "number = float(input(\"Enter a number: \"))\n",
    "\n",
    "# Check the number and display the result\n",
    "result = check_number(number)\n",
    "print(result)\n"
   ]
  },
  {
   "cell_type": "markdown",
   "id": "db0eb0ef-e2b4-4bcc-a801-ae852c778a10",
   "metadata": {},
   "source": [
    "## 5) Write a Python program that takes the user's age as input and prints whether they are eligible to vote (age 18 and above) or not."
   ]
  },
  {
   "cell_type": "code",
   "execution_count": 130,
   "id": "1afd57d8-5f27-41ae-82c9-ac0db468d8b1",
   "metadata": {},
   "outputs": [
    {
     "name": "stdin",
     "output_type": "stream",
     "text": [
      "How old are you ? 45\n"
     ]
    },
    {
     "name": "stdout",
     "output_type": "stream",
     "text": [
      "You are eligible to cast vote.\n"
     ]
    }
   ],
   "source": [
    "users_age = int(input(\"How old are you ?\"))\n",
    "\n",
    "if users_age >= 18 :\n",
    "    print (\"You are eligible to cast vote.\")\n",
    "\n",
    "else :\n",
    "    pprint (\"You are not eligible to cast vote.\")"
   ]
  },
  {
   "cell_type": "markdown",
   "id": "3a9655cb-1346-470f-bbf6-7b702e8e7372",
   "metadata": {},
   "source": [
    "## 6) Take three numbers as input from the user and determine the largest number among them."
   ]
  },
  {
   "cell_type": "code",
   "execution_count": 132,
   "id": "828462ce-7735-47fb-b4b2-5ea01794aaa7",
   "metadata": {},
   "outputs": [
    {
     "name": "stdin",
     "output_type": "stream",
     "text": [
      "Enter a first number. 4\n",
      "Enter a second number. 4\n",
      "Enter a third number. 4\n"
     ]
    },
    {
     "name": "stdout",
     "output_type": "stream",
     "text": [
      " Number 4 is a largest number\n"
     ]
    }
   ],
   "source": [
    "first_number = int(input(\"Enter a first number.\"))\n",
    "second_number = int(input(\"Enter a second number.\"))\n",
    "third_number = int(input(\"Enter a third number.\"))\n",
    "\n",
    "if first_number >=second_number and first_number >=third_number   :\n",
    "    print (f\" Number {first_number} is a largest number\")\n",
    "\n",
    "elif second_number >= first_number and second_number >= first_number :\n",
    "        print (f\" Number {second_number} is a largest number\")\n",
    "else :\n",
    "    print (f\" Number {third_number} is a largest number\")  "
   ]
  },
  {
   "cell_type": "markdown",
   "id": "c76571ce-0f59-488e-bb07-2aed913c6802",
   "metadata": {},
   "source": [
    "## 7) Write a Python program that asks the user to enter a year and determines whether it is a leap year or not. (A year is a leap year if it is divisible by 4 but not divisible by 100, unless it is also divisible by 400)."
   ]
  },
  {
   "cell_type": "code",
   "execution_count": 134,
   "id": "6242ebec-fff9-4f67-89f1-759a405f6b64",
   "metadata": {},
   "outputs": [
    {
     "name": "stdin",
     "output_type": "stream",
     "text": [
      "Enter a random year 4\n"
     ]
    },
    {
     "name": "stdout",
     "output_type": "stream",
     "text": [
      "Year 4 is a leap year\n"
     ]
    }
   ],
   "source": [
    "\n",
    "year = int(input(\"Enter a random year\"))\n",
    "remainder1 = year%4\n",
    "remainder2 = year%100\n",
    "remainder3 = year%400\n",
    "if remainder1 == 0 and remainder2 != 0 or remainder3 == 0 :\n",
    "    print (f\"Year {year} is a leap year\")\n",
    "\n",
    "else :\n",
    "    print (f\"Year {year} is not leap year try another value\")\n",
    "\n"
   ]
  },
  {
   "cell_type": "markdown",
   "id": "48138aef-c571-4e05-90a0-aec6bdcd14d1",
   "metadata": {},
   "source": [
    "## 8) Ask the user to enter a number between 1 and 7. Print the corresponding day of the week (1 = Sunday, 2 = Monday, etc.). If the input is out of range, print \"Invalid input\"."
   ]
  },
  {
   "cell_type": "code",
   "execution_count": 136,
   "id": "3a152d08-915a-42d9-9419-df6e5cb9a120",
   "metadata": {},
   "outputs": [
    {
     "name": "stdin",
     "output_type": "stream",
     "text": [
      "Enter a number between 1 to 7. 4\n"
     ]
    },
    {
     "name": "stdout",
     "output_type": "stream",
     "text": [
      "Thursday\n"
     ]
    }
   ],
   "source": [
    "\n",
    "number = int(input(\"Enter a number between 1 to 7.\"))\n",
    "\n",
    "if number == 1 :\n",
    "    print (\"Monday\")\n",
    "\n",
    "elif number == 2 :\n",
    "    print (\"Tuesday\")\n",
    "\n",
    "elif number == 3 :\n",
    "    print (\"Wednesday\")\n",
    "\n",
    "elif number == 4 :\n",
    "    print (\"Thursday\")\n",
    "\n",
    "elif number == 5 :\n",
    "    print (\"Friday\")\n",
    "\n",
    "elif number == 6 :\n",
    "    print (\"Saturday\")\n",
    "\n",
    "elif number == 7 :\n",
    "    print (\"Sunday\")\n",
    "\n",
    "else :\n",
    "    print (\"Invalid input.\")"
   ]
  },
  {
   "cell_type": "markdown",
   "id": "497c4495-7fd4-4d42-a285-a199e7bc2ae7",
   "metadata": {},
   "source": [
    "## 9) Ask the user to enter an amount in PKR and convert it to Dollors"
   ]
  },
  {
   "cell_type": "code",
   "execution_count": 138,
   "id": "7fe5f088-2c5c-4598-9459-8491d11197f4",
   "metadata": {},
   "outputs": [
    {
     "name": "stdin",
     "output_type": "stream",
     "text": [
      "Enter an amount in PKR to convert in doller 4\n"
     ]
    },
    {
     "name": "stdout",
     "output_type": "stream",
     "text": [
      " \n",
      "            1 Doller price in PKR is 280.05\n",
      "            therefore,\n",
      "            the amount you enter total value\n",
      "            is 0.0144$ Dollers\n",
      "            \n"
     ]
    }
   ],
   "source": [
    "amount = int(input(\"Enter an amount in PKR to convert in doller\"))\n",
    "doller = 0.0036\n",
    "total  = amount*doller\n",
    "\n",
    "print(f\"\"\" \n",
    "            1 Doller price in PKR is 280.05\n",
    "            therefore,\n",
    "            the amount you enter total value\n",
    "            is {total}$ Dollers\n",
    "            \"\"\")"
   ]
  },
  {
   "cell_type": "markdown",
   "id": "99aa191e-8b91-4600-9a3c-cd7909d85195",
   "metadata": {},
   "source": [
    "\n",
    "## 10) Take an integer input and determine if it is a prime number only divisible by 1 and itself"
   ]
  },
  {
   "cell_type": "code",
   "execution_count": 140,
   "id": "6a5de893-f684-4a93-b538-db8e6d17bec3",
   "metadata": {},
   "outputs": [
    {
     "name": "stdin",
     "output_type": "stream",
     "text": [
      "Enter a number 4\n"
     ]
    },
    {
     "name": "stdout",
     "output_type": "stream",
     "text": [
      " \n",
      "        The Number 4 is not a \n",
      "        prime number because other \n",
      "        than 1 it can also be divided\n",
      "        by other numbers.\n",
      "    \n"
     ]
    }
   ],
   "source": [
    "number = int(input(\"Enter a number\"))\n",
    "prime_number = number%2\n",
    "\n",
    "if prime_number == 1 :\n",
    "    print (f\"\"\" \n",
    "        The Number {number} is a \n",
    "        prime number because other \n",
    "        than 1 & itself can not be\n",
    "        divided.\n",
    "    \"\"\")\n",
    "\n",
    "else :\n",
    "    print (f\"\"\" \n",
    "        The Number {number} is not a \n",
    "        prime number because other \n",
    "        than 1 it can also be divided\n",
    "        by other numbers.\n",
    "    \"\"\")"
   ]
  },
  {
   "cell_type": "markdown",
   "id": "9bf69b15-5692-4f91-992c-8a77537e8bdf",
   "metadata": {},
   "source": [
    "## 11) Take a number as input and check whether it is divisible by both 5 and 11."
   ]
  },
  {
   "cell_type": "code",
   "execution_count": 142,
   "id": "0316d8d6-15c6-411e-a8da-b4c3ae18bbc8",
   "metadata": {},
   "outputs": [
    {
     "name": "stdin",
     "output_type": "stream",
     "text": [
      "Enter a number. 4\n"
     ]
    },
    {
     "name": "stdout",
     "output_type": "stream",
     "text": [
      " \n",
      "        The Number 4 is not a \n",
      "        unique number because it can\n",
      "        not be divided by both 5 and \n",
      "        11.\n",
      "    \n"
     ]
    }
   ],
   "source": [
    "number = int(input(\"Enter a number.\"))\n",
    "divisible = number%5==0 and number%11==0\n",
    "\n",
    "if divisible == True :\n",
    "    print(f\"\"\" \n",
    "        The Number {number} is a \n",
    "        unique number because it can\n",
    "        be divided by both 5 and 11.\n",
    "    \"\"\")\n",
    "\n",
    "else :\n",
    "    print(f\"\"\" \n",
    "        The Number {number} is not a \n",
    "        unique number because it can\n",
    "        not be divided by both 5 and \n",
    "        11.\n",
    "    \"\"\")"
   ]
  },
  {
   "cell_type": "markdown",
   "id": "e8446710-8584-4687-8b56-37a13ad7143e",
   "metadata": {},
   "source": [
    "## 12) Ask the user to input a single character. Determine whether it is uppercase or lowercase."
   ]
  },
  {
   "cell_type": "code",
   "execution_count": 144,
   "id": "fd8b8db6-4f0d-4bea-9c5e-bf2c4ea4e201",
   "metadata": {},
   "outputs": [
    {
     "name": "stdin",
     "output_type": "stream",
     "text": [
      "Enter a single letter. a\n"
     ]
    },
    {
     "name": "stdout",
     "output_type": "stream",
     "text": [
      " letter a is a lowercase.\n"
     ]
    }
   ],
   "source": [
    "character = input(\"Enter a single letter.\")\n",
    "\n",
    "if character.isupper() :\n",
    "    print(f\" letter {character} is a uppercase.\")\n",
    "\n",
    "elif character.islower() :\n",
    "    print (f\" letter {character} is a lowercase.\")\n",
    "\n",
    "else :\n",
    "    print (f\" {character} is not a letter.\")\n"
   ]
  },
  {
   "cell_type": "markdown",
   "id": "adc6ad96-8af4-48fd-a8af-c04052278eae",
   "metadata": {},
   "source": [
    "## 13) ask the user to input string Count the Number of Characters"
   ]
  },
  {
   "cell_type": "code",
   "execution_count": 146,
   "id": "fbbbdbbc-71d6-4eaf-89d0-9494a48b4724",
   "metadata": {},
   "outputs": [
    {
     "name": "stdin",
     "output_type": "stream",
     "text": [
      "Enter a word. fds\n"
     ]
    },
    {
     "name": "stdout",
     "output_type": "stream",
     "text": [
      "The number of characters in the input string is: 3\n"
     ]
    }
   ],
   "source": [
    "character = input(\"Enter a word.\")\n",
    "length = len(character)\n",
    "print(\"The number of characters in the input string is:\", length)"
   ]
  },
  {
   "cell_type": "markdown",
   "id": "bd73c44e-4f53-4a31-9460-b60192569af4",
   "metadata": {},
   "source": [
    "## 14) Write a Python program that takes a string input from the user and prints it in uppercase using a string function"
   ]
  },
  {
   "cell_type": "code",
   "execution_count": 186,
   "id": "5b0a7534-07c0-48ce-9cc6-7643c04de0e8",
   "metadata": {},
   "outputs": [
    {
     "name": "stdin",
     "output_type": "stream",
     "text": [
      "Enter a word. talha\n"
     ]
    },
    {
     "name": "stdout",
     "output_type": "stream",
     "text": [
      "TALHA\n"
     ]
    }
   ],
   "source": [
    "user_input = str(input(\"Enter a word.\")).upper()\n",
    "\n",
    "print(user_input)\n"
   ]
  },
  {
   "cell_type": "markdown",
   "id": "3a64b688-216d-4980-b2ab-f7a23be7a8d4",
   "metadata": {},
   "source": [
    "## 15) Take a sentence input from the user and replace all occurrences of a specific word with another word using the replace() function"
   ]
  },
  {
   "cell_type": "code",
   "execution_count": 200,
   "id": "55585c89-bfc1-4652-87e7-35a67464c3e7",
   "metadata": {},
   "outputs": [
    {
     "name": "stdin",
     "output_type": "stream",
     "text": [
      "enter a sentence. Finally, it prints both the original sentence and the new sentence with the replaced word.\n",
      "enter a word to replace from sentence. f\n",
      "enter a word new word. i\n"
     ]
    },
    {
     "name": "stdout",
     "output_type": "stream",
     "text": [
      "Finally, it prints both the original sentence and the new sentence with the replaced word.\n"
     ]
    }
   ],
   "source": [
    "sentence = input (\"enter a sentence.\")\n",
    "old = input(\"enter a word to replace from sentence.\")\n",
    "new = input(\"enter a word new word.\")\n",
    "\n",
    "new_sentence = for sentence.replace(old,new)\n",
    "\n",
    "print(new_sentence)"
   ]
  },
  {
   "cell_type": "markdown",
   "id": "b708f968-849d-4c1e-8982-b280895ae1d8",
   "metadata": {},
   "source": [
    "## 16) Write a Python program that asks the user to enter a string and checks whether it is numeric using the isnumeric() function."
   ]
  },
  {
   "cell_type": "code",
   "execution_count": 215,
   "id": "9d02dc6c-353d-4933-a3ee-a43f115fa26b",
   "metadata": {},
   "outputs": [
    {
     "name": "stdin",
     "output_type": "stream",
     "text": [
      "Enter a number 324\n"
     ]
    },
    {
     "name": "stdout",
     "output_type": "stream",
     "text": [
      "Han bhai, code true hogya input me number h\n"
     ]
    }
   ],
   "source": [
    "user_input = input (\"Enter a number\")\n",
    "\n",
    "if user_input.isnumeric() :\n",
    "    print(\"Han bhai, code true hogya input me number h\")\n",
    "\n",
    "else :\n",
    "    print (\"input me number nahi h\")"
   ]
  },
  {
   "cell_type": "markdown",
   "id": "5961ac5f-1d21-4eaf-8833-1f2d9d0b9f68",
   "metadata": {},
   "source": [
    "## 17) Write a Python program that removes extra spaces from the beginning and end of a string using the strip() function"
   ]
  },
  {
   "cell_type": "code",
   "execution_count": 229,
   "id": "81c19899-fa3e-4153-9acb-0a73b614ea72",
   "metadata": {},
   "outputs": [
    {
     "name": "stdout",
     "output_type": "stream",
     "text": [
      "The sun is shining brightly in the clear blue sky, casting a warm glow over the lush green landscape.\n"
     ]
    }
   ],
   "source": [
    "sentence = \"        The sun is shining brightly in the clear blue sky, casting a warm glow over the lush green landscape.               \"\n",
    "\n",
    "new_sentence = sentence.strip(\" \")\n",
    "\n",
    "print (new_sentence)"
   ]
  },
  {
   "cell_type": "markdown",
   "id": "b5904b0d-bb05-4ab8-9702-78bb4d7f7990",
   "metadata": {},
   "source": [
    "## 18) Take a sentence input and convert it into title case (capitalize the first letter of each word) using title()."
   ]
  },
  {
   "cell_type": "markdown",
   "id": "f7702b30-de1c-4c3c-9cd7-1b034e517dae",
   "metadata": {},
   "source": [
    "##### "
   ]
  },
  {
   "cell_type": "code",
   "execution_count": 244,
   "id": "a64b69b5-18d6-4dcb-b9c6-b663b0572c86",
   "metadata": {},
   "outputs": [
    {
     "name": "stdin",
     "output_type": "stream",
     "text": [
      "enter a sentence. The sun is shining brightly in the clear blue sky, casting a warm glow over the lush green landscape.\n"
     ]
    },
    {
     "name": "stdout",
     "output_type": "stream",
     "text": [
      "The Sun Is Shining Brightly In The Clear Blue Sky, Casting A Warm Glow Over The Lush Green Landscape.\n"
     ]
    }
   ],
   "source": [
    "sentence = input (\"enter a sentence.\").title()\n",
    "\n",
    "print (sentence)"
   ]
  },
  {
   "cell_type": "code",
   "execution_count": null,
   "id": "d8dea6d9-7c7a-49db-8380-fce4d795059c",
   "metadata": {},
   "outputs": [],
   "source": []
  }
 ],
 "metadata": {
  "kernelspec": {
   "display_name": "Python [conda env:base] *",
   "language": "python",
   "name": "conda-base-py"
  },
  "language_info": {
   "codemirror_mode": {
    "name": "ipython",
    "version": 3
   },
   "file_extension": ".py",
   "mimetype": "text/x-python",
   "name": "python",
   "nbconvert_exporter": "python",
   "pygments_lexer": "ipython3",
   "version": "3.12.7"
  }
 },
 "nbformat": 4,
 "nbformat_minor": 5
}
